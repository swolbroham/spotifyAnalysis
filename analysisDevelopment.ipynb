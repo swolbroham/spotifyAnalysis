{
 "cells": [
  {
   "cell_type": "markdown",
   "metadata": {},
   "source": [
    "# Analysis Development\n",
    " - Given the user has access to Spotify, this script will return a simple plot of their liked songs grouped by day and number of songs liked per day\n",
    " - Additional updated research will be appended in here"
   ]
  },
  {
   "cell_type": "markdown",
   "metadata": {},
   "source": [
    "##### Import the modules"
   ]
  },
  {
   "cell_type": "code",
   "execution_count": 1,
   "metadata": {},
   "outputs": [],
   "source": [
    "import numpy as np\n",
    "import pandas as pd\n",
    "\n",
    "import spotipy\n",
    "from spotipy import SpotifyOAuth"
   ]
  },
  {
   "cell_type": "markdown",
   "metadata": {},
   "source": [
    "##### Client ID and Secret are passed from an external source"
   ]
  },
  {
   "cell_type": "code",
   "execution_count": 2,
   "metadata": {},
   "outputs": [],
   "source": [
    "import settings"
   ]
  },
  {
   "cell_type": "code",
   "execution_count": 3,
   "metadata": {},
   "outputs": [],
   "source": [
    "# \n",
    "spotify_client_id = settings.SPOTIFY_CLIENT_ID\n",
    "spotify_client_secret = settings.SPOTIFY_CLIENT_SECRET\n",
    "spotify_redirect_uri = \"http://localhost:5000/callback\""
   ]
  },
  {
   "cell_type": "code",
   "execution_count": 4,
   "metadata": {},
   "outputs": [],
   "source": [
    "scope =  'user-read-private playlist-read-private playlist-read-collaborative playlist-modify-public playlist-modify-private'\n",
    "auth_manager = SpotifyOAuth(\n",
    "                            scope = scope, \n",
    "                            client_id = spotify_client_id,\n",
    "                            client_secret = spotify_client_secret,\n",
    "                            redirect_uri = spotify_redirect_uri\n",
    "                            )\n",
    "\n",
    "sp = spotipy.Spotify(auth_manager = auth_manager)"
   ]
  },
  {
   "cell_type": "code",
   "execution_count": 6,
   "metadata": {},
   "outputs": [],
   "source": [
    "sp.current_user()"
   ]
  }
 ],
 "metadata": {
  "kernelspec": {
   "display_name": "spotify_analysis_dashboard",
   "language": "python",
   "name": "python3"
  },
  "language_info": {
   "codemirror_mode": {
    "name": "ipython",
    "version": 3
   },
   "file_extension": ".py",
   "mimetype": "text/x-python",
   "name": "python",
   "nbconvert_exporter": "python",
   "pygments_lexer": "ipython3",
   "version": "3.12.3"
  }
 },
 "nbformat": 4,
 "nbformat_minor": 2
}
