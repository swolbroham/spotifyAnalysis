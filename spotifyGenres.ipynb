{
 "cells": [
  {
   "cell_type": "code",
   "execution_count": null,
   "metadata": {},
   "outputs": [],
   "source": [
    "import numpy as np\n",
    "import pandas as pd\n",
    "import matplotlib.pyplot as plt \n",
    "\n",
    "import spotipy\n",
    "from spotipy import SpotifyOAuth\n",
    "\n",
    "from sklearn.feature_extraction.text import CountVectorizer\n",
    "\n",
    "import settings\n"
   ]
  },
  {
   "cell_type": "code",
   "execution_count": 4,
   "metadata": {},
   "outputs": [],
   "source": [
    "# Client ID and Client Secret is called and used\n",
    "spotify_client_id = settings.SPOTIFY_CLIENT_ID\n",
    "spotify_client_secret = settings.SPOTIFY_CLIENT_SECRET\n",
    "spotify_redirect_uri = \"http://localhost:5000/callback\""
   ]
  },
  {
   "cell_type": "code",
   "execution_count": 5,
   "metadata": {},
   "outputs": [],
   "source": [
    "# provide scope of access for Python which requests access from the current user\n",
    "scope =  'user-library-read user-top-read user-read-private playlist-read-private playlist-read-collaborative playlist-modify-public playlist-modify-private'\n",
    "\n",
    "# authentication manager ensures secured point of access from spotify to python to client (me)\n",
    "auth_manager = SpotifyOAuth(\n",
    "                            scope = scope, \n",
    "                            client_id = spotify_client_id,\n",
    "                            client_secret = spotify_client_secret,\n",
    "                            redirect_uri = spotify_redirect_uri\n",
    "                            )\n",
    "\n",
    "# initial call of spotify using authentication manager\n",
    "sp = spotipy.Spotify(auth_manager = auth_manager)"
   ]
  },
  {
   "cell_type": "code",
   "execution_count": 6,
   "metadata": {},
   "outputs": [],
   "source": [
    "liked_songs = []\n",
    "offset = 0\n",
    "users_liked = sp.current_user_saved_tracks(limit = 50)\n",
    "\n",
    "while users_liked[\"next\"] != None:\n",
    "    liked_songs.extend(users_liked[\"items\"])\n",
    "    offset+=50\n",
    "    users_liked = sp.current_user_saved_tracks(offset=offset,limit = 50)\n",
    "\n",
    "liked_songs.extend(users_liked[\"items\"])"
   ]
  },
  {
   "cell_type": "code",
   "execution_count": null,
   "metadata": {},
   "outputs": [],
   "source": [
    "len(liked_songs)"
   ]
  },
  {
   "cell_type": "code",
   "execution_count": 8,
   "metadata": {},
   "outputs": [],
   "source": [
    "df = pd.DataFrame(list(map(lambda x: x[\"track\"],liked_songs)))"
   ]
  },
  {
   "cell_type": "code",
   "execution_count": 9,
   "metadata": {},
   "outputs": [],
   "source": [
    "unique_artists = df['artists'].apply(lambda x: x[0]['id']).drop_duplicates().reset_index(drop = True).tolist()"
   ]
  },
  {
   "cell_type": "code",
   "execution_count": 10,
   "metadata": {},
   "outputs": [],
   "source": [
    "# sp.artists(unique_artists[:50])"
   ]
  },
  {
   "cell_type": "code",
   "execution_count": null,
   "metadata": {},
   "outputs": [],
   "source": [
    "len(unique_artists)"
   ]
  },
  {
   "cell_type": "code",
   "execution_count": 12,
   "metadata": {},
   "outputs": [],
   "source": [
    "unique_artists_copy = unique_artists\n",
    "last = len(unique_artists)%50\n",
    "\n",
    "artists = [sp.artists(unique_artists[x:x+50])['artists'] if len(unique_artists)-x >= 50 else sp.artists(unique_artists[-last:]) for x in range(0,len(unique_artists),50)]\n",
    "\n"
   ]
  },
  {
   "cell_type": "code",
   "execution_count": null,
   "metadata": {},
   "outputs": [],
   "source": [
    "len(artists)"
   ]
  },
  {
   "cell_type": "code",
   "execution_count": 14,
   "metadata": {},
   "outputs": [],
   "source": [
    "collapse_artist = [item for sublist in artists for item in sublist]\n",
    "collapse_artist.extend(sp.artists(unique_artists[-last:])['artists'])"
   ]
  },
  {
   "cell_type": "code",
   "execution_count": 15,
   "metadata": {},
   "outputs": [],
   "source": [
    "collapse_artist_notnull = list(map(lambda x : x if type(x) is dict else None, collapse_artist))\n",
    "artists = [i for i in collapse_artist_notnull if i is not None]"
   ]
  },
  {
   "cell_type": "code",
   "execution_count": 16,
   "metadata": {},
   "outputs": [],
   "source": [
    "artists_df = pd.DataFrame(artists)"
   ]
  },
  {
   "cell_type": "code",
   "execution_count": null,
   "metadata": {},
   "outputs": [],
   "source": [
    "artists_df.columns"
   ]
  },
  {
   "cell_type": "code",
   "execution_count": 18,
   "metadata": {},
   "outputs": [],
   "source": [
    "unique_genres = artists_df[artists_df['genres'].apply(lambda x: len(x) > 0)]['genres'].explode().drop_duplicates().tolist()"
   ]
  },
  {
   "cell_type": "code",
   "execution_count": 19,
   "metadata": {},
   "outputs": [],
   "source": [
    "# CountVectorizer(input =  vocabulary=unique_genres)\n",
    "\n",
    "artists_df['total_followers'] = artists_df['followers'].apply(lambda x: x['total'])"
   ]
  },
  {
   "cell_type": "code",
   "execution_count": 20,
   "metadata": {},
   "outputs": [],
   "source": [
    "artists_df['cnt_vectorizer'] = artists_df['genres'].apply(lambda x: CountVectorizer(input=x, vocabulary=unique_genres))"
   ]
  },
  {
   "cell_type": "code",
   "execution_count": null,
   "metadata": {},
   "outputs": [],
   "source": [
    "unique_genres"
   ]
  },
  {
   "cell_type": "code",
   "execution_count": null,
   "metadata": {},
   "outputs": [],
   "source": [
    "artists_df['genres'].apply(lambda x: CountVectorizer(vocabulary=unique_genres).fit_transform(x))[0]"
   ]
  },
  {
   "cell_type": "code",
   "execution_count": null,
   "metadata": {},
   "outputs": [],
   "source": [
    "artists_df[artists_df['genres'].apply(lambda x: len(x) >= 1)]\n"
   ]
  },
  {
   "cell_type": "code",
   "execution_count": 23,
   "metadata": {},
   "outputs": [],
   "source": [
    "remainder = len(df['id'].tolist())%100\n",
    "\n",
    "round(len(df['id'].tolist())/100)\n",
    "\n",
    "audio_features = [sp.audio_features(x) for x in np.array_split(df['id'].tolist(),round(len(df['id'].tolist())/100)+1)]"
   ]
  },
  {
   "cell_type": "code",
   "execution_count": 24,
   "metadata": {},
   "outputs": [],
   "source": [
    "audio_features = [item for row in audio_features for item in row]"
   ]
  },
  {
   "cell_type": "code",
   "execution_count": 25,
   "metadata": {},
   "outputs": [],
   "source": [
    "features = pd.DataFrame(audio_features)"
   ]
  },
  {
   "cell_type": "code",
   "execution_count": 26,
   "metadata": {},
   "outputs": [],
   "source": [
    "combined_df = df.merge(features, on = 'id')"
   ]
  },
  {
   "cell_type": "code",
   "execution_count": null,
   "metadata": {},
   "outputs": [],
   "source": [
    "combined_df.columns"
   ]
  },
  {
   "cell_type": "code",
   "execution_count": 28,
   "metadata": {},
   "outputs": [],
   "source": [
    "combined_df['num_artists'] = combined_df['artists'].apply(lambda x: len(x))"
   ]
  },
  {
   "cell_type": "code",
   "execution_count": 53,
   "metadata": {},
   "outputs": [],
   "source": [
    "# round(combined_df['num_artists']/combined_df['popularity'], 7)\n",
    "\n",
    "combined_df['popularity_norm'] = combined_df['popularity'].apply(lambda x: x/100)"
   ]
  },
  {
   "cell_type": "code",
   "execution_count": null,
   "metadata": {},
   "outputs": [],
   "source": [
    "combined_df[combined_df['popularity']>0].groupby(['popularity_norm','num_artists']).agg({'popularity_norm':'mean', 'num_artists':'count'})"
   ]
  },
  {
   "cell_type": "code",
   "execution_count": null,
   "metadata": {},
   "outputs": [],
   "source": [
    "import datetime as dt\n",
    "current_date = pd.to_datetime(dt.datetime.now()).date().isoformat()\n"
   ]
  },
  {
   "cell_type": "code",
   "execution_count": null,
   "metadata": {},
   "outputs": [],
   "source": []
  },
  {
   "cell_type": "code",
   "execution_count": null,
   "metadata": {},
   "outputs": [],
   "source": [
    "## works \n",
    "# combined_df['album'].apply(lambda x: (pd.to_datetime(current_date)-pd.to_datetime(x['release_date'])).days)\n",
    "\n",
    "combined_df['album'].apply(lambda x: x['release_date_precision'])"
   ]
  },
  {
   "cell_type": "code",
   "execution_count": null,
   "metadata": {},
   "outputs": [],
   "source": [
    "set([item for row in list(map(str.split, unique_genres)) for item in row])"
   ]
  },
  {
   "cell_type": "code",
   "execution_count": 187,
   "metadata": {},
   "outputs": [],
   "source": [
    "# combine[artists_df['genres'].apply(lambda x: len(x)>= 1)][['genres', 'id', 'artists']]\n",
    "combined_df.id\n",
    "\n",
    "# artists_df['artists_id'] = artists_df['external_urls'].apply(lambda x: x['spotify'][32:])\n",
    "\n",
    "# print(len('https://open.spotify.com/artist/'))\n",
    "\n",
    "del artists_df['artists_id']"
   ]
  },
  {
   "cell_type": "code",
   "execution_count": null,
   "metadata": {},
   "outputs": [],
   "source": [
    "artists_df.columns"
   ]
  },
  {
   "cell_type": "code",
   "execution_count": null,
   "metadata": {},
   "outputs": [],
   "source": [
    "combined_df['artists'].apply(lambda x : [i['id'] for i in x ])\n",
    "combined_df['artists'].apply(lambda x : [i['name'] for i in x ])"
   ]
  }
 ],
 "metadata": {
  "kernelspec": {
   "display_name": "venv",
   "language": "python",
   "name": "python3"
  },
  "language_info": {
   "codemirror_mode": {
    "name": "ipython",
    "version": 3
   },
   "file_extension": ".py",
   "mimetype": "text/x-python",
   "name": "python",
   "nbconvert_exporter": "python",
   "pygments_lexer": "ipython3",
   "version": "-1.-1.-1"
  }
 },
 "nbformat": 4,
 "nbformat_minor": 2
}
