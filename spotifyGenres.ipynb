{
 "cells": [
  {
   "cell_type": "code",
   "execution_count": 62,
   "metadata": {},
   "outputs": [],
   "source": [
    "import numpy as np\n",
    "import pandas as pd\n",
    "import matplotlib.pyplot as plt \n",
    "\n",
    "import spotipy\n",
    "from spotipy import SpotifyOAuth\n",
    "\n",
    "from sklearn.feature_extraction.text import CountVectorizer\n",
    "\n",
    "import settings\n"
   ]
  },
  {
   "cell_type": "code",
   "execution_count": 63,
   "metadata": {},
   "outputs": [],
   "source": [
    "# Client ID and Client Secret is called and used\n",
    "spotify_client_id = settings.SPOTIFY_CLIENT_ID\n",
    "spotify_client_secret = settings.SPOTIFY_CLIENT_SECRET\n",
    "spotify_redirect_uri = \"http://localhost:5000/callback\""
   ]
  },
  {
   "cell_type": "code",
   "execution_count": 64,
   "metadata": {},
   "outputs": [],
   "source": [
    "# provide scope of access for Python which requests access from the current user\n",
    "scope =  'user-library-read user-top-read user-read-private playlist-read-private playlist-read-collaborative playlist-modify-public playlist-modify-private'\n",
    "\n",
    "# authentication manager ensures secured point of access from spotify to python to client (me)\n",
    "auth_manager = SpotifyOAuth(\n",
    "                            scope = scope, \n",
    "                            client_id = spotify_client_id,\n",
    "                            client_secret = spotify_client_secret,\n",
    "                            redirect_uri = spotify_redirect_uri\n",
    "                            )\n",
    "\n",
    "# initial call of spotify using authentication manager\n",
    "sp = spotipy.Spotify(auth_manager = auth_manager)"
   ]
  },
  {
   "cell_type": "code",
   "execution_count": 65,
   "metadata": {},
   "outputs": [],
   "source": [
    "liked_songs = []\n",
    "offset = 0\n",
    "users_liked = sp.current_user_saved_tracks(limit = 50)\n",
    "\n",
    "while users_liked[\"next\"] != None:\n",
    "    liked_songs.extend(users_liked[\"items\"])\n",
    "    offset+=50\n",
    "    users_liked = sp.current_user_saved_tracks(offset=offset,limit = 50)\n",
    "\n",
    "liked_songs.extend(users_liked[\"items\"])"
   ]
  },
  {
   "cell_type": "code",
   "execution_count": 66,
   "metadata": {},
   "outputs": [
    {
     "data": {
      "text/plain": [
       "1826"
      ]
     },
     "execution_count": 66,
     "metadata": {},
     "output_type": "execute_result"
    }
   ],
   "source": [
    "len(liked_songs)"
   ]
  },
  {
   "cell_type": "code",
   "execution_count": 67,
   "metadata": {},
   "outputs": [],
   "source": [
    "df = pd.DataFrame(list(map(lambda x: x[\"track\"],liked_songs)))"
   ]
  },
  {
   "cell_type": "code",
   "execution_count": 68,
   "metadata": {},
   "outputs": [],
   "source": [
    "unique_artists = df['artists'].apply(lambda x: x[0]['id']).drop_duplicates().reset_index(drop = True).tolist()"
   ]
  },
  {
   "cell_type": "code",
   "execution_count": 24,
   "metadata": {},
   "outputs": [],
   "source": [
    "# sp.artists(unique_artists[:50])"
   ]
  },
  {
   "cell_type": "code",
   "execution_count": 69,
   "metadata": {},
   "outputs": [
    {
     "data": {
      "text/plain": [
       "718"
      ]
     },
     "execution_count": 69,
     "metadata": {},
     "output_type": "execute_result"
    }
   ],
   "source": [
    "len(unique_artists)"
   ]
  },
  {
   "cell_type": "code",
   "execution_count": 70,
   "metadata": {},
   "outputs": [],
   "source": [
    "unique_artists_copy = unique_artists\n",
    "last = len(unique_artists)%50\n",
    "\n",
    "artists = [sp.artists(unique_artists[x:x+50])['artists'] if len(unique_artists)-x >= 50 else sp.artists(unique_artists[-last:]) for x in range(0,len(unique_artists),50)]\n",
    "\n"
   ]
  },
  {
   "cell_type": "code",
   "execution_count": 77,
   "metadata": {},
   "outputs": [
    {
     "data": {
      "text/plain": [
       "15"
      ]
     },
     "execution_count": 77,
     "metadata": {},
     "output_type": "execute_result"
    }
   ],
   "source": [
    "len(artists)"
   ]
  },
  {
   "cell_type": "code",
   "execution_count": 87,
   "metadata": {},
   "outputs": [],
   "source": [
    "collapse_artist = [item for sublist in artists for item in sublist]\n",
    "collapse_artist.extend(sp.artists(unique_artists[-last:])['artists'])"
   ]
  },
  {
   "cell_type": "code",
   "execution_count": 107,
   "metadata": {},
   "outputs": [],
   "source": [
    "collapse_artist_notnull = list(map(lambda x : x if type(x) is dict else None, collapse_artist))\n",
    "artists = [i for i in collapse_artist_notnull if i is not None]"
   ]
  },
  {
   "cell_type": "code",
   "execution_count": 109,
   "metadata": {},
   "outputs": [],
   "source": [
    "artists_df = pd.DataFrame(artists)"
   ]
  },
  {
   "cell_type": "code",
   "execution_count": 119,
   "metadata": {},
   "outputs": [
    {
     "data": {
      "text/plain": [
       "Index(['external_urls', 'followers', 'genres', 'href', 'id', 'images', 'name',\n",
       "       'popularity', 'type', 'uri'],\n",
       "      dtype='object')"
      ]
     },
     "execution_count": 119,
     "metadata": {},
     "output_type": "execute_result"
    }
   ],
   "source": [
    "artists_df.columns"
   ]
  }
 ],
 "metadata": {
  "kernelspec": {
   "display_name": "venv",
   "language": "python",
   "name": "python3"
  },
  "language_info": {
   "codemirror_mode": {
    "name": "ipython",
    "version": 3
   },
   "file_extension": ".py",
   "mimetype": "text/x-python",
   "name": "python",
   "nbconvert_exporter": "python",
   "pygments_lexer": "ipython3",
   "version": "3.12.3"
  }
 },
 "nbformat": 4,
 "nbformat_minor": 2
}
